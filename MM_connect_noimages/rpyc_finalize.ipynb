{
 "cells": [
  {
   "cell_type": "code",
   "execution_count": 4,
   "metadata": {},
   "outputs": [],
   "source": [
    "import rpyc\n",
    "import time"
   ]
  },
  {
   "cell_type": "code",
   "execution_count": 5,
   "metadata": {},
   "outputs": [],
   "source": [
    "def get_outputmask(image_name, output_mask):\n",
    "    #....\n",
    "    print(\"call back in client\", image_name)"
   ]
  },
  {
   "cell_type": "code",
   "execution_count": 6,
   "metadata": {},
   "outputs": [
    {
     "name": "stdout",
     "output_type": "stream",
     "text": [
      "Wall time: 6211.411714553833ms\n"
     ]
    }
   ],
   "source": [
    "# Send to GPU server\n",
    "start = time.time()\n",
    "conn = rpyc.connect(\"128.208.8.66\", 18871)\n",
    "conn._config['sync_request_timeout'] = 20000\n",
    "bgsrv = rpyc.BgServingThread(conn)\n",
    "mon = conn.root.ImageAnalysis(get_outputmask)\n",
    "mon.finalize()\n",
    "bgsrv.stop()\n",
    "conn.close()\n",
    "end = time.time()\n",
    "print('Wall time: ' + str((end-start)*1000) + 'ms')"
   ]
  },
  {
   "cell_type": "code",
   "execution_count": null,
   "metadata": {
    "collapsed": true
   },
   "outputs": [],
   "source": []
  }
 ],
 "metadata": {
  "kernelspec": {
   "display_name": "Python 3",
   "language": "python",
   "name": "python3"
  },
  "language_info": {
   "codemirror_mode": {
    "name": "ipython",
    "version": 3
   },
   "file_extension": ".py",
   "mimetype": "text/x-python",
   "name": "python",
   "nbconvert_exporter": "python",
   "pygments_lexer": "ipython3",
   "version": "3.6.5"
  }
 },
 "nbformat": 4,
 "nbformat_minor": 2
}
